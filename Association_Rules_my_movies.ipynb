{
  "nbformat": 4,
  "nbformat_minor": 0,
  "metadata": {
    "kernelspec": {
      "display_name": "Python 3",
      "language": "python",
      "name": "python3"
    },
    "language_info": {
      "codemirror_mode": {
        "name": "ipython",
        "version": 3
      },
      "file_extension": ".py",
      "mimetype": "text/x-python",
      "name": "python",
      "nbconvert_exporter": "python",
      "pygments_lexer": "ipython3",
      "version": "3.8.5"
    },
    "colab": {
      "name": "Association Rules my_movies.ipynb",
      "provenance": [],
      "collapsed_sections": [],
      "include_colab_link": true
    }
  },
  "cells": [
    {
      "cell_type": "markdown",
      "metadata": {
        "id": "view-in-github",
        "colab_type": "text"
      },
      "source": [
        "<a href=\"https://colab.research.google.com/github/MonikaRGaikwad/Association-Rules/blob/main/Association_Rules_my_movies.ipynb\" target=\"_parent\"><img src=\"https://colab.research.google.com/assets/colab-badge.svg\" alt=\"Open In Colab\"/></a>"
      ]
    },
    {
      "cell_type": "markdown",
      "metadata": {
        "id": "CXZEFNppaJft"
      },
      "source": [
        "# Association Rules"
      ]
    },
    {
      "cell_type": "markdown",
      "metadata": {
        "id": "RQN7tFyeaJfw"
      },
      "source": [
        "# My_Movie Dataset"
      ]
    },
    {
      "cell_type": "code",
      "metadata": {
        "colab": {
          "base_uri": "https://localhost:8080/"
        },
        "id": "vvY4x_jWaJfx",
        "outputId": "c15046c7-b5be-44ba-c324-cef8f8df0e16"
      },
      "source": [
        "pip install mlxtend  "
      ],
      "execution_count": 1,
      "outputs": [
        {
          "output_type": "stream",
          "text": [
            "Requirement already satisfied: mlxtend in /usr/local/lib/python3.7/dist-packages (0.14.0)\n",
            "Requirement already satisfied: scikit-learn>=0.18 in /usr/local/lib/python3.7/dist-packages (from mlxtend) (0.22.2.post1)\n",
            "Requirement already satisfied: matplotlib>=1.5.1 in /usr/local/lib/python3.7/dist-packages (from mlxtend) (3.2.2)\n",
            "Requirement already satisfied: pandas>=0.17.1 in /usr/local/lib/python3.7/dist-packages (from mlxtend) (1.1.5)\n",
            "Requirement already satisfied: numpy>=1.10.4 in /usr/local/lib/python3.7/dist-packages (from mlxtend) (1.19.5)\n",
            "Requirement already satisfied: setuptools in /usr/local/lib/python3.7/dist-packages (from mlxtend) (57.0.0)\n",
            "Requirement already satisfied: scipy>=0.17 in /usr/local/lib/python3.7/dist-packages (from mlxtend) (1.4.1)\n",
            "Requirement already satisfied: joblib>=0.11 in /usr/local/lib/python3.7/dist-packages (from scikit-learn>=0.18->mlxtend) (1.0.1)\n",
            "Requirement already satisfied: kiwisolver>=1.0.1 in /usr/local/lib/python3.7/dist-packages (from matplotlib>=1.5.1->mlxtend) (1.3.1)\n",
            "Requirement already satisfied: cycler>=0.10 in /usr/local/lib/python3.7/dist-packages (from matplotlib>=1.5.1->mlxtend) (0.10.0)\n",
            "Requirement already satisfied: python-dateutil>=2.1 in /usr/local/lib/python3.7/dist-packages (from matplotlib>=1.5.1->mlxtend) (2.8.1)\n",
            "Requirement already satisfied: pyparsing!=2.0.4,!=2.1.2,!=2.1.6,>=2.0.1 in /usr/local/lib/python3.7/dist-packages (from matplotlib>=1.5.1->mlxtend) (2.4.7)\n",
            "Requirement already satisfied: pytz>=2017.2 in /usr/local/lib/python3.7/dist-packages (from pandas>=0.17.1->mlxtend) (2018.9)\n",
            "Requirement already satisfied: six in /usr/local/lib/python3.7/dist-packages (from cycler>=0.10->matplotlib>=1.5.1->mlxtend) (1.15.0)\n"
          ],
          "name": "stdout"
        }
      ]
    },
    {
      "cell_type": "code",
      "metadata": {
        "id": "SU0exQq0aJfy"
      },
      "source": [
        "# import libraries\n",
        "import pandas as pd\n",
        "from mlxtend.frequent_patterns import apriori,association_rules\n",
        "from mlxtend.preprocessing import TransactionEncoder"
      ],
      "execution_count": 2,
      "outputs": []
    },
    {
      "cell_type": "code",
      "metadata": {
        "colab": {
          "base_uri": "https://localhost:8080/",
          "height": 204
        },
        "id": "UPKsQiIgaJfz",
        "outputId": "5378a3fd-d391-448f-b4f4-b6f900e94990"
      },
      "source": [
        "# Load My_Movies dataset\n",
        "mymovies = pd.read_csv(\"/content/my_movies.csv\")\n",
        "mymovies.head()"
      ],
      "execution_count": 4,
      "outputs": [
        {
          "output_type": "execute_result",
          "data": {
            "text/html": [
              "<div>\n",
              "<style scoped>\n",
              "    .dataframe tbody tr th:only-of-type {\n",
              "        vertical-align: middle;\n",
              "    }\n",
              "\n",
              "    .dataframe tbody tr th {\n",
              "        vertical-align: top;\n",
              "    }\n",
              "\n",
              "    .dataframe thead th {\n",
              "        text-align: right;\n",
              "    }\n",
              "</style>\n",
              "<table border=\"1\" class=\"dataframe\">\n",
              "  <thead>\n",
              "    <tr style=\"text-align: right;\">\n",
              "      <th></th>\n",
              "      <th>V1</th>\n",
              "      <th>V2</th>\n",
              "      <th>V3</th>\n",
              "      <th>V4</th>\n",
              "      <th>V5</th>\n",
              "      <th>Sixth Sense</th>\n",
              "      <th>Gladiator</th>\n",
              "      <th>LOTR1</th>\n",
              "      <th>Harry Potter1</th>\n",
              "      <th>Patriot</th>\n",
              "      <th>LOTR2</th>\n",
              "      <th>Harry Potter2</th>\n",
              "      <th>LOTR</th>\n",
              "      <th>Braveheart</th>\n",
              "      <th>Green Mile</th>\n",
              "    </tr>\n",
              "  </thead>\n",
              "  <tbody>\n",
              "    <tr>\n",
              "      <th>0</th>\n",
              "      <td>Sixth Sense</td>\n",
              "      <td>LOTR1</td>\n",
              "      <td>Harry Potter1</td>\n",
              "      <td>Green Mile</td>\n",
              "      <td>LOTR2</td>\n",
              "      <td>1</td>\n",
              "      <td>0</td>\n",
              "      <td>1</td>\n",
              "      <td>1</td>\n",
              "      <td>0</td>\n",
              "      <td>1</td>\n",
              "      <td>0</td>\n",
              "      <td>0</td>\n",
              "      <td>0</td>\n",
              "      <td>1</td>\n",
              "    </tr>\n",
              "    <tr>\n",
              "      <th>1</th>\n",
              "      <td>Gladiator</td>\n",
              "      <td>Patriot</td>\n",
              "      <td>Braveheart</td>\n",
              "      <td>NaN</td>\n",
              "      <td>NaN</td>\n",
              "      <td>0</td>\n",
              "      <td>1</td>\n",
              "      <td>0</td>\n",
              "      <td>0</td>\n",
              "      <td>1</td>\n",
              "      <td>0</td>\n",
              "      <td>0</td>\n",
              "      <td>0</td>\n",
              "      <td>1</td>\n",
              "      <td>0</td>\n",
              "    </tr>\n",
              "    <tr>\n",
              "      <th>2</th>\n",
              "      <td>LOTR1</td>\n",
              "      <td>LOTR2</td>\n",
              "      <td>NaN</td>\n",
              "      <td>NaN</td>\n",
              "      <td>NaN</td>\n",
              "      <td>0</td>\n",
              "      <td>0</td>\n",
              "      <td>1</td>\n",
              "      <td>0</td>\n",
              "      <td>0</td>\n",
              "      <td>1</td>\n",
              "      <td>0</td>\n",
              "      <td>0</td>\n",
              "      <td>0</td>\n",
              "      <td>0</td>\n",
              "    </tr>\n",
              "    <tr>\n",
              "      <th>3</th>\n",
              "      <td>Gladiator</td>\n",
              "      <td>Patriot</td>\n",
              "      <td>Sixth Sense</td>\n",
              "      <td>NaN</td>\n",
              "      <td>NaN</td>\n",
              "      <td>1</td>\n",
              "      <td>1</td>\n",
              "      <td>0</td>\n",
              "      <td>0</td>\n",
              "      <td>1</td>\n",
              "      <td>0</td>\n",
              "      <td>0</td>\n",
              "      <td>0</td>\n",
              "      <td>0</td>\n",
              "      <td>0</td>\n",
              "    </tr>\n",
              "    <tr>\n",
              "      <th>4</th>\n",
              "      <td>Gladiator</td>\n",
              "      <td>Patriot</td>\n",
              "      <td>Sixth Sense</td>\n",
              "      <td>NaN</td>\n",
              "      <td>NaN</td>\n",
              "      <td>1</td>\n",
              "      <td>1</td>\n",
              "      <td>0</td>\n",
              "      <td>0</td>\n",
              "      <td>1</td>\n",
              "      <td>0</td>\n",
              "      <td>0</td>\n",
              "      <td>0</td>\n",
              "      <td>0</td>\n",
              "      <td>0</td>\n",
              "    </tr>\n",
              "  </tbody>\n",
              "</table>\n",
              "</div>"
            ],
            "text/plain": [
              "            V1       V2             V3  ... LOTR Braveheart  Green Mile\n",
              "0  Sixth Sense    LOTR1  Harry Potter1  ...    0          0           1\n",
              "1    Gladiator  Patriot     Braveheart  ...    0          1           0\n",
              "2        LOTR1    LOTR2            NaN  ...    0          0           0\n",
              "3    Gladiator  Patriot    Sixth Sense  ...    0          0           0\n",
              "4    Gladiator  Patriot    Sixth Sense  ...    0          0           0\n",
              "\n",
              "[5 rows x 15 columns]"
            ]
          },
          "metadata": {
            "tags": []
          },
          "execution_count": 4
        }
      ]
    },
    {
      "cell_type": "markdown",
      "metadata": {
        "id": "0aUXARH7aJfz"
      },
      "source": [
        "# Data cleaning"
      ]
    },
    {
      "cell_type": "code",
      "metadata": {
        "colab": {
          "base_uri": "https://localhost:8080/",
          "height": 204
        },
        "id": "IZw5TH_oaJf0",
        "outputId": "0d54c01c-dce8-49f3-a7c8-0d9d7643b3ad"
      },
      "source": [
        "columns_to_drop = ['V1','V2','V3','V4','V5']\n",
        "mymovies.drop(columns_to_drop, axis = 1, inplace= True)\n",
        "mymovies.sample(5)"
      ],
      "execution_count": 5,
      "outputs": [
        {
          "output_type": "execute_result",
          "data": {
            "text/html": [
              "<div>\n",
              "<style scoped>\n",
              "    .dataframe tbody tr th:only-of-type {\n",
              "        vertical-align: middle;\n",
              "    }\n",
              "\n",
              "    .dataframe tbody tr th {\n",
              "        vertical-align: top;\n",
              "    }\n",
              "\n",
              "    .dataframe thead th {\n",
              "        text-align: right;\n",
              "    }\n",
              "</style>\n",
              "<table border=\"1\" class=\"dataframe\">\n",
              "  <thead>\n",
              "    <tr style=\"text-align: right;\">\n",
              "      <th></th>\n",
              "      <th>Sixth Sense</th>\n",
              "      <th>Gladiator</th>\n",
              "      <th>LOTR1</th>\n",
              "      <th>Harry Potter1</th>\n",
              "      <th>Patriot</th>\n",
              "      <th>LOTR2</th>\n",
              "      <th>Harry Potter2</th>\n",
              "      <th>LOTR</th>\n",
              "      <th>Braveheart</th>\n",
              "      <th>Green Mile</th>\n",
              "    </tr>\n",
              "  </thead>\n",
              "  <tbody>\n",
              "    <tr>\n",
              "      <th>3</th>\n",
              "      <td>1</td>\n",
              "      <td>1</td>\n",
              "      <td>0</td>\n",
              "      <td>0</td>\n",
              "      <td>1</td>\n",
              "      <td>0</td>\n",
              "      <td>0</td>\n",
              "      <td>0</td>\n",
              "      <td>0</td>\n",
              "      <td>0</td>\n",
              "    </tr>\n",
              "    <tr>\n",
              "      <th>0</th>\n",
              "      <td>1</td>\n",
              "      <td>0</td>\n",
              "      <td>1</td>\n",
              "      <td>1</td>\n",
              "      <td>0</td>\n",
              "      <td>1</td>\n",
              "      <td>0</td>\n",
              "      <td>0</td>\n",
              "      <td>0</td>\n",
              "      <td>1</td>\n",
              "    </tr>\n",
              "    <tr>\n",
              "      <th>6</th>\n",
              "      <td>0</td>\n",
              "      <td>0</td>\n",
              "      <td>0</td>\n",
              "      <td>1</td>\n",
              "      <td>0</td>\n",
              "      <td>0</td>\n",
              "      <td>1</td>\n",
              "      <td>0</td>\n",
              "      <td>0</td>\n",
              "      <td>0</td>\n",
              "    </tr>\n",
              "    <tr>\n",
              "      <th>9</th>\n",
              "      <td>1</td>\n",
              "      <td>1</td>\n",
              "      <td>0</td>\n",
              "      <td>0</td>\n",
              "      <td>0</td>\n",
              "      <td>0</td>\n",
              "      <td>0</td>\n",
              "      <td>1</td>\n",
              "      <td>0</td>\n",
              "      <td>1</td>\n",
              "    </tr>\n",
              "    <tr>\n",
              "      <th>5</th>\n",
              "      <td>1</td>\n",
              "      <td>1</td>\n",
              "      <td>0</td>\n",
              "      <td>0</td>\n",
              "      <td>1</td>\n",
              "      <td>0</td>\n",
              "      <td>0</td>\n",
              "      <td>0</td>\n",
              "      <td>0</td>\n",
              "      <td>0</td>\n",
              "    </tr>\n",
              "  </tbody>\n",
              "</table>\n",
              "</div>"
            ],
            "text/plain": [
              "   Sixth Sense  Gladiator  LOTR1  ...  LOTR  Braveheart  Green Mile\n",
              "3            1          1      0  ...     0           0           0\n",
              "0            1          0      1  ...     0           0           1\n",
              "6            0          0      0  ...     0           0           0\n",
              "9            1          1      0  ...     1           0           1\n",
              "5            1          1      0  ...     0           0           0\n",
              "\n",
              "[5 rows x 10 columns]"
            ]
          },
          "metadata": {
            "tags": []
          },
          "execution_count": 5
        }
      ]
    },
    {
      "cell_type": "markdown",
      "metadata": {
        "id": "z2_jyybdaJf0"
      },
      "source": [
        "# Build Apriori model"
      ]
    },
    {
      "cell_type": "code",
      "metadata": {
        "colab": {
          "base_uri": "https://localhost:8080/",
          "height": 1000
        },
        "id": "3IpN1Bu8aJf1",
        "outputId": "af065dfc-e114-44ae-8370-bfd3b45a4bf0"
      },
      "source": [
        "frequent_itemsets = apriori(mymovies, min_support=0.01, use_colnames=True)\n",
        "frequent_itemsets"
      ],
      "execution_count": 6,
      "outputs": [
        {
          "output_type": "execute_result",
          "data": {
            "text/html": [
              "<div>\n",
              "<style scoped>\n",
              "    .dataframe tbody tr th:only-of-type {\n",
              "        vertical-align: middle;\n",
              "    }\n",
              "\n",
              "    .dataframe tbody tr th {\n",
              "        vertical-align: top;\n",
              "    }\n",
              "\n",
              "    .dataframe thead th {\n",
              "        text-align: right;\n",
              "    }\n",
              "</style>\n",
              "<table border=\"1\" class=\"dataframe\">\n",
              "  <thead>\n",
              "    <tr style=\"text-align: right;\">\n",
              "      <th></th>\n",
              "      <th>support</th>\n",
              "      <th>itemsets</th>\n",
              "    </tr>\n",
              "  </thead>\n",
              "  <tbody>\n",
              "    <tr>\n",
              "      <th>0</th>\n",
              "      <td>0.6</td>\n",
              "      <td>(Sixth Sense)</td>\n",
              "    </tr>\n",
              "    <tr>\n",
              "      <th>1</th>\n",
              "      <td>0.7</td>\n",
              "      <td>(Gladiator)</td>\n",
              "    </tr>\n",
              "    <tr>\n",
              "      <th>2</th>\n",
              "      <td>0.2</td>\n",
              "      <td>(LOTR1)</td>\n",
              "    </tr>\n",
              "    <tr>\n",
              "      <th>3</th>\n",
              "      <td>0.2</td>\n",
              "      <td>(Harry Potter1)</td>\n",
              "    </tr>\n",
              "    <tr>\n",
              "      <th>4</th>\n",
              "      <td>0.6</td>\n",
              "      <td>(Patriot)</td>\n",
              "    </tr>\n",
              "    <tr>\n",
              "      <th>5</th>\n",
              "      <td>0.2</td>\n",
              "      <td>(LOTR2)</td>\n",
              "    </tr>\n",
              "    <tr>\n",
              "      <th>6</th>\n",
              "      <td>0.1</td>\n",
              "      <td>(Harry Potter2)</td>\n",
              "    </tr>\n",
              "    <tr>\n",
              "      <th>7</th>\n",
              "      <td>0.1</td>\n",
              "      <td>(LOTR)</td>\n",
              "    </tr>\n",
              "    <tr>\n",
              "      <th>8</th>\n",
              "      <td>0.1</td>\n",
              "      <td>(Braveheart)</td>\n",
              "    </tr>\n",
              "    <tr>\n",
              "      <th>9</th>\n",
              "      <td>0.2</td>\n",
              "      <td>(Green Mile)</td>\n",
              "    </tr>\n",
              "    <tr>\n",
              "      <th>10</th>\n",
              "      <td>0.5</td>\n",
              "      <td>(Gladiator, Sixth Sense)</td>\n",
              "    </tr>\n",
              "    <tr>\n",
              "      <th>11</th>\n",
              "      <td>0.1</td>\n",
              "      <td>(LOTR1, Sixth Sense)</td>\n",
              "    </tr>\n",
              "    <tr>\n",
              "      <th>12</th>\n",
              "      <td>0.1</td>\n",
              "      <td>(Harry Potter1, Sixth Sense)</td>\n",
              "    </tr>\n",
              "    <tr>\n",
              "      <th>13</th>\n",
              "      <td>0.4</td>\n",
              "      <td>(Patriot, Sixth Sense)</td>\n",
              "    </tr>\n",
              "    <tr>\n",
              "      <th>14</th>\n",
              "      <td>0.1</td>\n",
              "      <td>(LOTR2, Sixth Sense)</td>\n",
              "    </tr>\n",
              "    <tr>\n",
              "      <th>15</th>\n",
              "      <td>0.1</td>\n",
              "      <td>(LOTR, Sixth Sense)</td>\n",
              "    </tr>\n",
              "    <tr>\n",
              "      <th>16</th>\n",
              "      <td>0.2</td>\n",
              "      <td>(Green Mile, Sixth Sense)</td>\n",
              "    </tr>\n",
              "    <tr>\n",
              "      <th>17</th>\n",
              "      <td>0.6</td>\n",
              "      <td>(Patriot, Gladiator)</td>\n",
              "    </tr>\n",
              "    <tr>\n",
              "      <th>18</th>\n",
              "      <td>0.1</td>\n",
              "      <td>(LOTR, Gladiator)</td>\n",
              "    </tr>\n",
              "    <tr>\n",
              "      <th>19</th>\n",
              "      <td>0.1</td>\n",
              "      <td>(Braveheart, Gladiator)</td>\n",
              "    </tr>\n",
              "    <tr>\n",
              "      <th>20</th>\n",
              "      <td>0.1</td>\n",
              "      <td>(Green Mile, Gladiator)</td>\n",
              "    </tr>\n",
              "    <tr>\n",
              "      <th>21</th>\n",
              "      <td>0.1</td>\n",
              "      <td>(Harry Potter1, LOTR1)</td>\n",
              "    </tr>\n",
              "    <tr>\n",
              "      <th>22</th>\n",
              "      <td>0.2</td>\n",
              "      <td>(LOTR2, LOTR1)</td>\n",
              "    </tr>\n",
              "    <tr>\n",
              "      <th>23</th>\n",
              "      <td>0.1</td>\n",
              "      <td>(LOTR1, Green Mile)</td>\n",
              "    </tr>\n",
              "    <tr>\n",
              "      <th>24</th>\n",
              "      <td>0.1</td>\n",
              "      <td>(LOTR2, Harry Potter1)</td>\n",
              "    </tr>\n",
              "    <tr>\n",
              "      <th>25</th>\n",
              "      <td>0.1</td>\n",
              "      <td>(Harry Potter1, Harry Potter2)</td>\n",
              "    </tr>\n",
              "    <tr>\n",
              "      <th>26</th>\n",
              "      <td>0.1</td>\n",
              "      <td>(Harry Potter1, Green Mile)</td>\n",
              "    </tr>\n",
              "    <tr>\n",
              "      <th>27</th>\n",
              "      <td>0.1</td>\n",
              "      <td>(Braveheart, Patriot)</td>\n",
              "    </tr>\n",
              "    <tr>\n",
              "      <th>28</th>\n",
              "      <td>0.1</td>\n",
              "      <td>(LOTR2, Green Mile)</td>\n",
              "    </tr>\n",
              "    <tr>\n",
              "      <th>29</th>\n",
              "      <td>0.1</td>\n",
              "      <td>(LOTR, Green Mile)</td>\n",
              "    </tr>\n",
              "    <tr>\n",
              "      <th>30</th>\n",
              "      <td>0.4</td>\n",
              "      <td>(Patriot, Gladiator, Sixth Sense)</td>\n",
              "    </tr>\n",
              "    <tr>\n",
              "      <th>31</th>\n",
              "      <td>0.1</td>\n",
              "      <td>(LOTR, Gladiator, Sixth Sense)</td>\n",
              "    </tr>\n",
              "    <tr>\n",
              "      <th>32</th>\n",
              "      <td>0.1</td>\n",
              "      <td>(Green Mile, Gladiator, Sixth Sense)</td>\n",
              "    </tr>\n",
              "    <tr>\n",
              "      <th>33</th>\n",
              "      <td>0.1</td>\n",
              "      <td>(Harry Potter1, LOTR1, Sixth Sense)</td>\n",
              "    </tr>\n",
              "    <tr>\n",
              "      <th>34</th>\n",
              "      <td>0.1</td>\n",
              "      <td>(LOTR2, LOTR1, Sixth Sense)</td>\n",
              "    </tr>\n",
              "    <tr>\n",
              "      <th>35</th>\n",
              "      <td>0.1</td>\n",
              "      <td>(LOTR1, Green Mile, Sixth Sense)</td>\n",
              "    </tr>\n",
              "    <tr>\n",
              "      <th>36</th>\n",
              "      <td>0.1</td>\n",
              "      <td>(LOTR2, Harry Potter1, Sixth Sense)</td>\n",
              "    </tr>\n",
              "    <tr>\n",
              "      <th>37</th>\n",
              "      <td>0.1</td>\n",
              "      <td>(Harry Potter1, Green Mile, Sixth Sense)</td>\n",
              "    </tr>\n",
              "    <tr>\n",
              "      <th>38</th>\n",
              "      <td>0.1</td>\n",
              "      <td>(LOTR2, Green Mile, Sixth Sense)</td>\n",
              "    </tr>\n",
              "    <tr>\n",
              "      <th>39</th>\n",
              "      <td>0.1</td>\n",
              "      <td>(LOTR, Green Mile, Sixth Sense)</td>\n",
              "    </tr>\n",
              "    <tr>\n",
              "      <th>40</th>\n",
              "      <td>0.1</td>\n",
              "      <td>(Braveheart, Gladiator, Patriot)</td>\n",
              "    </tr>\n",
              "    <tr>\n",
              "      <th>41</th>\n",
              "      <td>0.1</td>\n",
              "      <td>(Green Mile, LOTR, Gladiator)</td>\n",
              "    </tr>\n",
              "    <tr>\n",
              "      <th>42</th>\n",
              "      <td>0.1</td>\n",
              "      <td>(LOTR2, Harry Potter1, LOTR1)</td>\n",
              "    </tr>\n",
              "    <tr>\n",
              "      <th>43</th>\n",
              "      <td>0.1</td>\n",
              "      <td>(LOTR1, Harry Potter1, Green Mile)</td>\n",
              "    </tr>\n",
              "    <tr>\n",
              "      <th>44</th>\n",
              "      <td>0.1</td>\n",
              "      <td>(LOTR1, LOTR2, Green Mile)</td>\n",
              "    </tr>\n",
              "    <tr>\n",
              "      <th>45</th>\n",
              "      <td>0.1</td>\n",
              "      <td>(LOTR2, Harry Potter1, Green Mile)</td>\n",
              "    </tr>\n",
              "    <tr>\n",
              "      <th>46</th>\n",
              "      <td>0.1</td>\n",
              "      <td>(Green Mile, LOTR, Gladiator, Sixth Sense)</td>\n",
              "    </tr>\n",
              "    <tr>\n",
              "      <th>47</th>\n",
              "      <td>0.1</td>\n",
              "      <td>(LOTR2, Harry Potter1, LOTR1, Sixth Sense)</td>\n",
              "    </tr>\n",
              "    <tr>\n",
              "      <th>48</th>\n",
              "      <td>0.1</td>\n",
              "      <td>(LOTR1, Harry Potter1, Green Mile, Sixth Sense)</td>\n",
              "    </tr>\n",
              "    <tr>\n",
              "      <th>49</th>\n",
              "      <td>0.1</td>\n",
              "      <td>(LOTR1, LOTR2, Green Mile, Sixth Sense)</td>\n",
              "    </tr>\n",
              "    <tr>\n",
              "      <th>50</th>\n",
              "      <td>0.1</td>\n",
              "      <td>(LOTR2, Harry Potter1, Green Mile, Sixth Sense)</td>\n",
              "    </tr>\n",
              "    <tr>\n",
              "      <th>51</th>\n",
              "      <td>0.1</td>\n",
              "      <td>(LOTR1, LOTR2, Harry Potter1, Green Mile)</td>\n",
              "    </tr>\n",
              "    <tr>\n",
              "      <th>52</th>\n",
              "      <td>0.1</td>\n",
              "      <td>(LOTR1, LOTR2, Sixth Sense, Harry Potter1, Gre...</td>\n",
              "    </tr>\n",
              "  </tbody>\n",
              "</table>\n",
              "</div>"
            ],
            "text/plain": [
              "    support                                           itemsets\n",
              "0       0.6                                      (Sixth Sense)\n",
              "1       0.7                                        (Gladiator)\n",
              "2       0.2                                            (LOTR1)\n",
              "3       0.2                                    (Harry Potter1)\n",
              "4       0.6                                          (Patriot)\n",
              "5       0.2                                            (LOTR2)\n",
              "6       0.1                                    (Harry Potter2)\n",
              "7       0.1                                             (LOTR)\n",
              "8       0.1                                       (Braveheart)\n",
              "9       0.2                                       (Green Mile)\n",
              "10      0.5                           (Gladiator, Sixth Sense)\n",
              "11      0.1                               (LOTR1, Sixth Sense)\n",
              "12      0.1                       (Harry Potter1, Sixth Sense)\n",
              "13      0.4                             (Patriot, Sixth Sense)\n",
              "14      0.1                               (LOTR2, Sixth Sense)\n",
              "15      0.1                                (LOTR, Sixth Sense)\n",
              "16      0.2                          (Green Mile, Sixth Sense)\n",
              "17      0.6                               (Patriot, Gladiator)\n",
              "18      0.1                                  (LOTR, Gladiator)\n",
              "19      0.1                            (Braveheart, Gladiator)\n",
              "20      0.1                            (Green Mile, Gladiator)\n",
              "21      0.1                             (Harry Potter1, LOTR1)\n",
              "22      0.2                                     (LOTR2, LOTR1)\n",
              "23      0.1                                (LOTR1, Green Mile)\n",
              "24      0.1                             (LOTR2, Harry Potter1)\n",
              "25      0.1                     (Harry Potter1, Harry Potter2)\n",
              "26      0.1                        (Harry Potter1, Green Mile)\n",
              "27      0.1                              (Braveheart, Patriot)\n",
              "28      0.1                                (LOTR2, Green Mile)\n",
              "29      0.1                                 (LOTR, Green Mile)\n",
              "30      0.4                  (Patriot, Gladiator, Sixth Sense)\n",
              "31      0.1                     (LOTR, Gladiator, Sixth Sense)\n",
              "32      0.1               (Green Mile, Gladiator, Sixth Sense)\n",
              "33      0.1                (Harry Potter1, LOTR1, Sixth Sense)\n",
              "34      0.1                        (LOTR2, LOTR1, Sixth Sense)\n",
              "35      0.1                   (LOTR1, Green Mile, Sixth Sense)\n",
              "36      0.1                (LOTR2, Harry Potter1, Sixth Sense)\n",
              "37      0.1           (Harry Potter1, Green Mile, Sixth Sense)\n",
              "38      0.1                   (LOTR2, Green Mile, Sixth Sense)\n",
              "39      0.1                    (LOTR, Green Mile, Sixth Sense)\n",
              "40      0.1                   (Braveheart, Gladiator, Patriot)\n",
              "41      0.1                      (Green Mile, LOTR, Gladiator)\n",
              "42      0.1                      (LOTR2, Harry Potter1, LOTR1)\n",
              "43      0.1                 (LOTR1, Harry Potter1, Green Mile)\n",
              "44      0.1                         (LOTR1, LOTR2, Green Mile)\n",
              "45      0.1                 (LOTR2, Harry Potter1, Green Mile)\n",
              "46      0.1         (Green Mile, LOTR, Gladiator, Sixth Sense)\n",
              "47      0.1         (LOTR2, Harry Potter1, LOTR1, Sixth Sense)\n",
              "48      0.1    (LOTR1, Harry Potter1, Green Mile, Sixth Sense)\n",
              "49      0.1            (LOTR1, LOTR2, Green Mile, Sixth Sense)\n",
              "50      0.1    (LOTR2, Harry Potter1, Green Mile, Sixth Sense)\n",
              "51      0.1          (LOTR1, LOTR2, Harry Potter1, Green Mile)\n",
              "52      0.1  (LOTR1, LOTR2, Sixth Sense, Harry Potter1, Gre..."
            ]
          },
          "metadata": {
            "tags": []
          },
          "execution_count": 6
        }
      ]
    },
    {
      "cell_type": "code",
      "metadata": {
        "colab": {
          "base_uri": "https://localhost:8080/",
          "height": 419
        },
        "id": "jEwfSOsyaJf2",
        "outputId": "54e82bf9-7bd3-4ac9-ae4d-98efff785481"
      },
      "source": [
        "rules = association_rules(frequent_itemsets, metric=\"lift\", min_threshold=0.4)\n",
        "rules"
      ],
      "execution_count": 7,
      "outputs": [
        {
          "output_type": "execute_result",
          "data": {
            "text/html": [
              "<div>\n",
              "<style scoped>\n",
              "    .dataframe tbody tr th:only-of-type {\n",
              "        vertical-align: middle;\n",
              "    }\n",
              "\n",
              "    .dataframe tbody tr th {\n",
              "        vertical-align: top;\n",
              "    }\n",
              "\n",
              "    .dataframe thead th {\n",
              "        text-align: right;\n",
              "    }\n",
              "</style>\n",
              "<table border=\"1\" class=\"dataframe\">\n",
              "  <thead>\n",
              "    <tr style=\"text-align: right;\">\n",
              "      <th></th>\n",
              "      <th>antecedents</th>\n",
              "      <th>consequents</th>\n",
              "      <th>antecedent support</th>\n",
              "      <th>consequent support</th>\n",
              "      <th>support</th>\n",
              "      <th>confidence</th>\n",
              "      <th>lift</th>\n",
              "      <th>leverage</th>\n",
              "      <th>conviction</th>\n",
              "    </tr>\n",
              "  </thead>\n",
              "  <tbody>\n",
              "    <tr>\n",
              "      <th>0</th>\n",
              "      <td>(Gladiator)</td>\n",
              "      <td>(Sixth Sense)</td>\n",
              "      <td>0.7</td>\n",
              "      <td>0.6</td>\n",
              "      <td>0.5</td>\n",
              "      <td>0.714286</td>\n",
              "      <td>1.190476</td>\n",
              "      <td>0.08</td>\n",
              "      <td>1.40</td>\n",
              "    </tr>\n",
              "    <tr>\n",
              "      <th>1</th>\n",
              "      <td>(Sixth Sense)</td>\n",
              "      <td>(Gladiator)</td>\n",
              "      <td>0.6</td>\n",
              "      <td>0.7</td>\n",
              "      <td>0.5</td>\n",
              "      <td>0.833333</td>\n",
              "      <td>1.190476</td>\n",
              "      <td>0.08</td>\n",
              "      <td>1.80</td>\n",
              "    </tr>\n",
              "    <tr>\n",
              "      <th>2</th>\n",
              "      <td>(LOTR1)</td>\n",
              "      <td>(Sixth Sense)</td>\n",
              "      <td>0.2</td>\n",
              "      <td>0.6</td>\n",
              "      <td>0.1</td>\n",
              "      <td>0.500000</td>\n",
              "      <td>0.833333</td>\n",
              "      <td>-0.02</td>\n",
              "      <td>0.80</td>\n",
              "    </tr>\n",
              "    <tr>\n",
              "      <th>3</th>\n",
              "      <td>(Sixth Sense)</td>\n",
              "      <td>(LOTR1)</td>\n",
              "      <td>0.6</td>\n",
              "      <td>0.2</td>\n",
              "      <td>0.1</td>\n",
              "      <td>0.166667</td>\n",
              "      <td>0.833333</td>\n",
              "      <td>-0.02</td>\n",
              "      <td>0.96</td>\n",
              "    </tr>\n",
              "    <tr>\n",
              "      <th>4</th>\n",
              "      <td>(Harry Potter1)</td>\n",
              "      <td>(Sixth Sense)</td>\n",
              "      <td>0.2</td>\n",
              "      <td>0.6</td>\n",
              "      <td>0.1</td>\n",
              "      <td>0.500000</td>\n",
              "      <td>0.833333</td>\n",
              "      <td>-0.02</td>\n",
              "      <td>0.80</td>\n",
              "    </tr>\n",
              "    <tr>\n",
              "      <th>...</th>\n",
              "      <td>...</td>\n",
              "      <td>...</td>\n",
              "      <td>...</td>\n",
              "      <td>...</td>\n",
              "      <td>...</td>\n",
              "      <td>...</td>\n",
              "      <td>...</td>\n",
              "      <td>...</td>\n",
              "      <td>...</td>\n",
              "    </tr>\n",
              "    <tr>\n",
              "      <th>245</th>\n",
              "      <td>(LOTR1)</td>\n",
              "      <td>(LOTR2, Harry Potter1, Green Mile, Sixth Sense)</td>\n",
              "      <td>0.2</td>\n",
              "      <td>0.1</td>\n",
              "      <td>0.1</td>\n",
              "      <td>0.500000</td>\n",
              "      <td>5.000000</td>\n",
              "      <td>0.08</td>\n",
              "      <td>1.80</td>\n",
              "    </tr>\n",
              "    <tr>\n",
              "      <th>246</th>\n",
              "      <td>(LOTR2)</td>\n",
              "      <td>(Green Mile, Harry Potter1, LOTR1, Sixth Sense)</td>\n",
              "      <td>0.2</td>\n",
              "      <td>0.1</td>\n",
              "      <td>0.1</td>\n",
              "      <td>0.500000</td>\n",
              "      <td>5.000000</td>\n",
              "      <td>0.08</td>\n",
              "      <td>1.80</td>\n",
              "    </tr>\n",
              "    <tr>\n",
              "      <th>247</th>\n",
              "      <td>(Sixth Sense)</td>\n",
              "      <td>(Green Mile, LOTR2, Harry Potter1, LOTR1)</td>\n",
              "      <td>0.6</td>\n",
              "      <td>0.1</td>\n",
              "      <td>0.1</td>\n",
              "      <td>0.166667</td>\n",
              "      <td>1.666667</td>\n",
              "      <td>0.04</td>\n",
              "      <td>1.08</td>\n",
              "    </tr>\n",
              "    <tr>\n",
              "      <th>248</th>\n",
              "      <td>(Harry Potter1)</td>\n",
              "      <td>(Green Mile, LOTR2, LOTR1, Sixth Sense)</td>\n",
              "      <td>0.2</td>\n",
              "      <td>0.1</td>\n",
              "      <td>0.1</td>\n",
              "      <td>0.500000</td>\n",
              "      <td>5.000000</td>\n",
              "      <td>0.08</td>\n",
              "      <td>1.80</td>\n",
              "    </tr>\n",
              "    <tr>\n",
              "      <th>249</th>\n",
              "      <td>(Green Mile)</td>\n",
              "      <td>(LOTR2, Harry Potter1, LOTR1, Sixth Sense)</td>\n",
              "      <td>0.2</td>\n",
              "      <td>0.1</td>\n",
              "      <td>0.1</td>\n",
              "      <td>0.500000</td>\n",
              "      <td>5.000000</td>\n",
              "      <td>0.08</td>\n",
              "      <td>1.80</td>\n",
              "    </tr>\n",
              "  </tbody>\n",
              "</table>\n",
              "<p>250 rows × 9 columns</p>\n",
              "</div>"
            ],
            "text/plain": [
              "         antecedents  ... conviction\n",
              "0        (Gladiator)  ...       1.40\n",
              "1      (Sixth Sense)  ...       1.80\n",
              "2            (LOTR1)  ...       0.80\n",
              "3      (Sixth Sense)  ...       0.96\n",
              "4    (Harry Potter1)  ...       0.80\n",
              "..               ...  ...        ...\n",
              "245          (LOTR1)  ...       1.80\n",
              "246          (LOTR2)  ...       1.80\n",
              "247    (Sixth Sense)  ...       1.08\n",
              "248  (Harry Potter1)  ...       1.80\n",
              "249     (Green Mile)  ...       1.80\n",
              "\n",
              "[250 rows x 9 columns]"
            ]
          },
          "metadata": {
            "tags": []
          },
          "execution_count": 7
        }
      ]
    },
    {
      "cell_type": "code",
      "metadata": {
        "colab": {
          "base_uri": "https://localhost:8080/"
        },
        "id": "ZXEzHxAQaJf2",
        "outputId": "6fed83b1-1060-49bc-f866-be983af35900"
      },
      "source": [
        "rules.quantile()"
      ],
      "execution_count": 8,
      "outputs": [
        {
          "output_type": "execute_result",
          "data": {
            "text/plain": [
              "antecedent support    0.200000\n",
              "consequent support    0.200000\n",
              "support               0.100000\n",
              "confidence            0.928571\n",
              "lift                  5.000000\n",
              "leverage              0.080000\n",
              "conviction                 inf\n",
              "Name: 0.5, dtype: float64"
            ]
          },
          "metadata": {
            "tags": []
          },
          "execution_count": 8
        }
      ]
    },
    {
      "cell_type": "markdown",
      "metadata": {
        "id": "H-fnyZ0ZaJf3"
      },
      "source": [
        "#### An leverage value of 0 indicates independence. Range will be [-1 1]\n",
        "#### A high conviction value means that the consequent is highly depending on the antecedent and range [0 inf]"
      ]
    },
    {
      "cell_type": "code",
      "metadata": {
        "colab": {
          "base_uri": "https://localhost:8080/",
          "height": 359
        },
        "id": "KjLRjLSPaJf3",
        "outputId": "7633d12e-4da3-4996-9e5b-5d4d506478dc"
      },
      "source": [
        "rules.sort_values('lift',ascending = False)[0:10]"
      ],
      "execution_count": 9,
      "outputs": [
        {
          "output_type": "execute_result",
          "data": {
            "text/html": [
              "<div>\n",
              "<style scoped>\n",
              "    .dataframe tbody tr th:only-of-type {\n",
              "        vertical-align: middle;\n",
              "    }\n",
              "\n",
              "    .dataframe tbody tr th {\n",
              "        vertical-align: top;\n",
              "    }\n",
              "\n",
              "    .dataframe thead th {\n",
              "        text-align: right;\n",
              "    }\n",
              "</style>\n",
              "<table border=\"1\" class=\"dataframe\">\n",
              "  <thead>\n",
              "    <tr style=\"text-align: right;\">\n",
              "      <th></th>\n",
              "      <th>antecedents</th>\n",
              "      <th>consequents</th>\n",
              "      <th>antecedent support</th>\n",
              "      <th>consequent support</th>\n",
              "      <th>support</th>\n",
              "      <th>confidence</th>\n",
              "      <th>lift</th>\n",
              "      <th>leverage</th>\n",
              "      <th>conviction</th>\n",
              "    </tr>\n",
              "  </thead>\n",
              "  <tbody>\n",
              "    <tr>\n",
              "      <th>212</th>\n",
              "      <td>(Green Mile, LOTR1)</td>\n",
              "      <td>(LOTR2, Harry Potter1)</td>\n",
              "      <td>0.1</td>\n",
              "      <td>0.1</td>\n",
              "      <td>0.1</td>\n",
              "      <td>1.0</td>\n",
              "      <td>10.0</td>\n",
              "      <td>0.09</td>\n",
              "      <td>inf</td>\n",
              "    </tr>\n",
              "    <tr>\n",
              "      <th>225</th>\n",
              "      <td>(LOTR2, LOTR1, Sixth Sense)</td>\n",
              "      <td>(Harry Potter1, Green Mile)</td>\n",
              "      <td>0.1</td>\n",
              "      <td>0.1</td>\n",
              "      <td>0.1</td>\n",
              "      <td>1.0</td>\n",
              "      <td>10.0</td>\n",
              "      <td>0.09</td>\n",
              "      <td>inf</td>\n",
              "    </tr>\n",
              "    <tr>\n",
              "      <th>213</th>\n",
              "      <td>(LOTR2, Harry Potter1)</td>\n",
              "      <td>(Green Mile, LOTR1)</td>\n",
              "      <td>0.1</td>\n",
              "      <td>0.1</td>\n",
              "      <td>0.1</td>\n",
              "      <td>1.0</td>\n",
              "      <td>10.0</td>\n",
              "      <td>0.09</td>\n",
              "      <td>inf</td>\n",
              "    </tr>\n",
              "    <tr>\n",
              "      <th>211</th>\n",
              "      <td>(Harry Potter1, LOTR1)</td>\n",
              "      <td>(LOTR2, Green Mile)</td>\n",
              "      <td>0.1</td>\n",
              "      <td>0.1</td>\n",
              "      <td>0.1</td>\n",
              "      <td>1.0</td>\n",
              "      <td>10.0</td>\n",
              "      <td>0.09</td>\n",
              "      <td>inf</td>\n",
              "    </tr>\n",
              "    <tr>\n",
              "      <th>138</th>\n",
              "      <td>(Gladiator, Green Mile, Sixth Sense)</td>\n",
              "      <td>(LOTR)</td>\n",
              "      <td>0.1</td>\n",
              "      <td>0.1</td>\n",
              "      <td>0.1</td>\n",
              "      <td>1.0</td>\n",
              "      <td>10.0</td>\n",
              "      <td>0.09</td>\n",
              "      <td>inf</td>\n",
              "    </tr>\n",
              "    <tr>\n",
              "      <th>141</th>\n",
              "      <td>(Gladiator, Green Mile)</td>\n",
              "      <td>(LOTR, Sixth Sense)</td>\n",
              "      <td>0.1</td>\n",
              "      <td>0.1</td>\n",
              "      <td>0.1</td>\n",
              "      <td>1.0</td>\n",
              "      <td>10.0</td>\n",
              "      <td>0.09</td>\n",
              "      <td>inf</td>\n",
              "    </tr>\n",
              "    <tr>\n",
              "      <th>144</th>\n",
              "      <td>(LOTR, Sixth Sense)</td>\n",
              "      <td>(Gladiator, Green Mile)</td>\n",
              "      <td>0.1</td>\n",
              "      <td>0.1</td>\n",
              "      <td>0.1</td>\n",
              "      <td>1.0</td>\n",
              "      <td>10.0</td>\n",
              "      <td>0.09</td>\n",
              "      <td>inf</td>\n",
              "    </tr>\n",
              "    <tr>\n",
              "      <th>147</th>\n",
              "      <td>(LOTR)</td>\n",
              "      <td>(Gladiator, Green Mile, Sixth Sense)</td>\n",
              "      <td>0.1</td>\n",
              "      <td>0.1</td>\n",
              "      <td>0.1</td>\n",
              "      <td>1.0</td>\n",
              "      <td>10.0</td>\n",
              "      <td>0.09</td>\n",
              "      <td>inf</td>\n",
              "    </tr>\n",
              "    <tr>\n",
              "      <th>200</th>\n",
              "      <td>(Harry Potter1, Sixth Sense)</td>\n",
              "      <td>(LOTR2, Green Mile)</td>\n",
              "      <td>0.1</td>\n",
              "      <td>0.1</td>\n",
              "      <td>0.1</td>\n",
              "      <td>1.0</td>\n",
              "      <td>10.0</td>\n",
              "      <td>0.09</td>\n",
              "      <td>inf</td>\n",
              "    </tr>\n",
              "    <tr>\n",
              "      <th>199</th>\n",
              "      <td>(Harry Potter1, Green Mile)</td>\n",
              "      <td>(LOTR2, Sixth Sense)</td>\n",
              "      <td>0.1</td>\n",
              "      <td>0.1</td>\n",
              "      <td>0.1</td>\n",
              "      <td>1.0</td>\n",
              "      <td>10.0</td>\n",
              "      <td>0.09</td>\n",
              "      <td>inf</td>\n",
              "    </tr>\n",
              "  </tbody>\n",
              "</table>\n",
              "</div>"
            ],
            "text/plain": [
              "                              antecedents  ... conviction\n",
              "212                   (Green Mile, LOTR1)  ...        inf\n",
              "225           (LOTR2, LOTR1, Sixth Sense)  ...        inf\n",
              "213                (LOTR2, Harry Potter1)  ...        inf\n",
              "211                (Harry Potter1, LOTR1)  ...        inf\n",
              "138  (Gladiator, Green Mile, Sixth Sense)  ...        inf\n",
              "141               (Gladiator, Green Mile)  ...        inf\n",
              "144                   (LOTR, Sixth Sense)  ...        inf\n",
              "147                                (LOTR)  ...        inf\n",
              "200          (Harry Potter1, Sixth Sense)  ...        inf\n",
              "199           (Harry Potter1, Green Mile)  ...        inf\n",
              "\n",
              "[10 rows x 9 columns]"
            ]
          },
          "metadata": {
            "tags": []
          },
          "execution_count": 9
        }
      ]
    },
    {
      "cell_type": "code",
      "metadata": {
        "colab": {
          "base_uri": "https://localhost:8080/",
          "height": 419
        },
        "id": "vf6b2HWOaJf3",
        "outputId": "b6623e48-5371-4312-efe9-8d5db088846b"
      },
      "source": [
        "rules[rules.lift>1]"
      ],
      "execution_count": 10,
      "outputs": [
        {
          "output_type": "execute_result",
          "data": {
            "text/html": [
              "<div>\n",
              "<style scoped>\n",
              "    .dataframe tbody tr th:only-of-type {\n",
              "        vertical-align: middle;\n",
              "    }\n",
              "\n",
              "    .dataframe tbody tr th {\n",
              "        vertical-align: top;\n",
              "    }\n",
              "\n",
              "    .dataframe thead th {\n",
              "        text-align: right;\n",
              "    }\n",
              "</style>\n",
              "<table border=\"1\" class=\"dataframe\">\n",
              "  <thead>\n",
              "    <tr style=\"text-align: right;\">\n",
              "      <th></th>\n",
              "      <th>antecedents</th>\n",
              "      <th>consequents</th>\n",
              "      <th>antecedent support</th>\n",
              "      <th>consequent support</th>\n",
              "      <th>support</th>\n",
              "      <th>confidence</th>\n",
              "      <th>lift</th>\n",
              "      <th>leverage</th>\n",
              "      <th>conviction</th>\n",
              "    </tr>\n",
              "  </thead>\n",
              "  <tbody>\n",
              "    <tr>\n",
              "      <th>0</th>\n",
              "      <td>(Gladiator)</td>\n",
              "      <td>(Sixth Sense)</td>\n",
              "      <td>0.7</td>\n",
              "      <td>0.6</td>\n",
              "      <td>0.5</td>\n",
              "      <td>0.714286</td>\n",
              "      <td>1.190476</td>\n",
              "      <td>0.08</td>\n",
              "      <td>1.40</td>\n",
              "    </tr>\n",
              "    <tr>\n",
              "      <th>1</th>\n",
              "      <td>(Sixth Sense)</td>\n",
              "      <td>(Gladiator)</td>\n",
              "      <td>0.6</td>\n",
              "      <td>0.7</td>\n",
              "      <td>0.5</td>\n",
              "      <td>0.833333</td>\n",
              "      <td>1.190476</td>\n",
              "      <td>0.08</td>\n",
              "      <td>1.80</td>\n",
              "    </tr>\n",
              "    <tr>\n",
              "      <th>6</th>\n",
              "      <td>(Patriot)</td>\n",
              "      <td>(Sixth Sense)</td>\n",
              "      <td>0.6</td>\n",
              "      <td>0.6</td>\n",
              "      <td>0.4</td>\n",
              "      <td>0.666667</td>\n",
              "      <td>1.111111</td>\n",
              "      <td>0.04</td>\n",
              "      <td>1.20</td>\n",
              "    </tr>\n",
              "    <tr>\n",
              "      <th>7</th>\n",
              "      <td>(Sixth Sense)</td>\n",
              "      <td>(Patriot)</td>\n",
              "      <td>0.6</td>\n",
              "      <td>0.6</td>\n",
              "      <td>0.4</td>\n",
              "      <td>0.666667</td>\n",
              "      <td>1.111111</td>\n",
              "      <td>0.04</td>\n",
              "      <td>1.20</td>\n",
              "    </tr>\n",
              "    <tr>\n",
              "      <th>10</th>\n",
              "      <td>(LOTR)</td>\n",
              "      <td>(Sixth Sense)</td>\n",
              "      <td>0.1</td>\n",
              "      <td>0.6</td>\n",
              "      <td>0.1</td>\n",
              "      <td>1.000000</td>\n",
              "      <td>1.666667</td>\n",
              "      <td>0.04</td>\n",
              "      <td>inf</td>\n",
              "    </tr>\n",
              "    <tr>\n",
              "      <th>...</th>\n",
              "      <td>...</td>\n",
              "      <td>...</td>\n",
              "      <td>...</td>\n",
              "      <td>...</td>\n",
              "      <td>...</td>\n",
              "      <td>...</td>\n",
              "      <td>...</td>\n",
              "      <td>...</td>\n",
              "      <td>...</td>\n",
              "    </tr>\n",
              "    <tr>\n",
              "      <th>245</th>\n",
              "      <td>(LOTR1)</td>\n",
              "      <td>(LOTR2, Harry Potter1, Green Mile, Sixth Sense)</td>\n",
              "      <td>0.2</td>\n",
              "      <td>0.1</td>\n",
              "      <td>0.1</td>\n",
              "      <td>0.500000</td>\n",
              "      <td>5.000000</td>\n",
              "      <td>0.08</td>\n",
              "      <td>1.80</td>\n",
              "    </tr>\n",
              "    <tr>\n",
              "      <th>246</th>\n",
              "      <td>(LOTR2)</td>\n",
              "      <td>(Green Mile, Harry Potter1, LOTR1, Sixth Sense)</td>\n",
              "      <td>0.2</td>\n",
              "      <td>0.1</td>\n",
              "      <td>0.1</td>\n",
              "      <td>0.500000</td>\n",
              "      <td>5.000000</td>\n",
              "      <td>0.08</td>\n",
              "      <td>1.80</td>\n",
              "    </tr>\n",
              "    <tr>\n",
              "      <th>247</th>\n",
              "      <td>(Sixth Sense)</td>\n",
              "      <td>(Green Mile, LOTR2, Harry Potter1, LOTR1)</td>\n",
              "      <td>0.6</td>\n",
              "      <td>0.1</td>\n",
              "      <td>0.1</td>\n",
              "      <td>0.166667</td>\n",
              "      <td>1.666667</td>\n",
              "      <td>0.04</td>\n",
              "      <td>1.08</td>\n",
              "    </tr>\n",
              "    <tr>\n",
              "      <th>248</th>\n",
              "      <td>(Harry Potter1)</td>\n",
              "      <td>(Green Mile, LOTR2, LOTR1, Sixth Sense)</td>\n",
              "      <td>0.2</td>\n",
              "      <td>0.1</td>\n",
              "      <td>0.1</td>\n",
              "      <td>0.500000</td>\n",
              "      <td>5.000000</td>\n",
              "      <td>0.08</td>\n",
              "      <td>1.80</td>\n",
              "    </tr>\n",
              "    <tr>\n",
              "      <th>249</th>\n",
              "      <td>(Green Mile)</td>\n",
              "      <td>(LOTR2, Harry Potter1, LOTR1, Sixth Sense)</td>\n",
              "      <td>0.2</td>\n",
              "      <td>0.1</td>\n",
              "      <td>0.1</td>\n",
              "      <td>0.500000</td>\n",
              "      <td>5.000000</td>\n",
              "      <td>0.08</td>\n",
              "      <td>1.80</td>\n",
              "    </tr>\n",
              "  </tbody>\n",
              "</table>\n",
              "<p>236 rows × 9 columns</p>\n",
              "</div>"
            ],
            "text/plain": [
              "         antecedents  ... conviction\n",
              "0        (Gladiator)  ...       1.40\n",
              "1      (Sixth Sense)  ...       1.80\n",
              "6          (Patriot)  ...       1.20\n",
              "7      (Sixth Sense)  ...       1.20\n",
              "10            (LOTR)  ...        inf\n",
              "..               ...  ...        ...\n",
              "245          (LOTR1)  ...       1.80\n",
              "246          (LOTR2)  ...       1.80\n",
              "247    (Sixth Sense)  ...       1.08\n",
              "248  (Harry Potter1)  ...       1.80\n",
              "249     (Green Mile)  ...       1.80\n",
              "\n",
              "[236 rows x 9 columns]"
            ]
          },
          "metadata": {
            "tags": []
          },
          "execution_count": 10
        }
      ]
    },
    {
      "cell_type": "code",
      "metadata": {
        "colab": {
          "base_uri": "https://localhost:8080/"
        },
        "id": "iseXDNZvaJf4",
        "outputId": "0131f126-1895-4a90-a09d-26e6aee74b3a"
      },
      "source": [
        "rules.quantile()"
      ],
      "execution_count": 11,
      "outputs": [
        {
          "output_type": "execute_result",
          "data": {
            "text/plain": [
              "antecedent support    0.200000\n",
              "consequent support    0.200000\n",
              "support               0.100000\n",
              "confidence            0.928571\n",
              "lift                  5.000000\n",
              "leverage              0.080000\n",
              "conviction                 inf\n",
              "Name: 0.5, dtype: float64"
            ]
          },
          "metadata": {
            "tags": []
          },
          "execution_count": 11
        }
      ]
    },
    {
      "cell_type": "markdown",
      "metadata": {
        "id": "8H8oOwrraJf4"
      },
      "source": [
        "# Data Visulization"
      ]
    },
    {
      "cell_type": "code",
      "metadata": {
        "colab": {
          "base_uri": "https://localhost:8080/",
          "height": 282
        },
        "id": "GV-C9BN9aJf4",
        "outputId": "ccdbe8d6-1e63-4aa6-b5ff-4688e79e9612"
      },
      "source": [
        "import matplotlib.pyplot as plt\n",
        "%matplotlib inline\n",
        "plt.scatter(rules.support,rules.confidence)"
      ],
      "execution_count": 12,
      "outputs": [
        {
          "output_type": "execute_result",
          "data": {
            "text/plain": [
              "<matplotlib.collections.PathCollection at 0x7f0c8a199f50>"
            ]
          },
          "metadata": {
            "tags": []
          },
          "execution_count": 12
        },
        {
          "output_type": "display_data",
          "data": {
            "image/png": "[encoded data removed]",
            "text/plain": [
              "<Figure size 432x288 with 1 Axes>"
            ]
          },
          "metadata": {
            "tags": [],
            "needs_background": "light"
          }
        }
      ]
    },
    {
      "cell_type": "code",
      "metadata": {
        "colab": {
          "base_uri": "https://localhost:8080/",
          "height": 302
        },
        "id": "0YJiGmjMaJf5",
        "outputId": "7e2f1ab2-3ca3-419d-966f-e7b4cf5f7b2c"
      },
      "source": [
        "pd.crosstab(rules.support,rules.confidence).plot(kind=\"bar\")"
      ],
      "execution_count": 13,
      "outputs": [
        {
          "output_type": "execute_result",
          "data": {
            "text/plain": [
              "<matplotlib.axes._subplots.AxesSubplot at 0x7f0c89ca8c10>"
            ]
          },
          "metadata": {
            "tags": []
          },
          "execution_count": 13
        },
        {
          "output_type": "display_data",
          "data": {
            "image/png": "[encoded data removed]",
            "text/plain": [
              "<Figure size 432x288 with 1 Axes>"
            ]
          },
          "metadata": {
            "tags": [],
            "needs_background": "light"
          }
        }
      ]
    },
    {
      "cell_type": "code",
      "metadata": {
        "colab": {
          "base_uri": "https://localhost:8080/",
          "height": 265
        },
        "id": "7kVpzSJDaJf5",
        "outputId": "0ffc0272-43df-4fe9-fd9e-302fa2afbfbb"
      },
      "source": [
        "rules[\"support\"].value_counts()\n",
        "rules.support.value_counts().plot(kind=\"pie\")"
      ],
      "execution_count": 14,
      "outputs": [
        {
          "output_type": "execute_result",
          "data": {
            "text/plain": [
              "<matplotlib.axes._subplots.AxesSubplot at 0x7f0c89b1e190>"
            ]
          },
          "metadata": {
            "tags": []
          },
          "execution_count": 14
        },
        {
          "output_type": "display_data",
          "data": {
            "image/png": "[encoded data removed]",
            "text/plain": [
              "<Figure size 432x288 with 1 Axes>"
            ]
          },
          "metadata": {
            "tags": []
          }
        }
      ]
    },
    {
      "cell_type": "code",
      "metadata": {
        "colab": {
          "base_uri": "https://localhost:8080/",
          "height": 265
        },
        "id": "JHTsmx3QaJf5",
        "outputId": "5d6e03b2-57ed-48d3-bc1c-44bb80fe7630"
      },
      "source": [
        "rules[\"confidence\"].value_counts()\n",
        "rules.support.value_counts().plot(kind=\"pie\")"
      ],
      "execution_count": 16,
      "outputs": [
        {
          "output_type": "execute_result",
          "data": {
            "text/plain": [
              "<matplotlib.axes._subplots.AxesSubplot at 0x7f0c89a54350>"
            ]
          },
          "metadata": {
            "tags": []
          },
          "execution_count": 16
        },
        {
          "output_type": "display_data",
          "data": {
            "image/png": "[encoded data removed]",
            "text/plain": [
              "<Figure size 432x288 with 1 Axes>"
            ]
          },
          "metadata": {
            "tags": []
          }
        }
      ]
    },
    {
      "cell_type": "code",
      "metadata": {
        "colab": {
          "base_uri": "https://localhost:8080/",
          "height": 577
        },
        "id": "EgHqDkd5aJf6",
        "outputId": "92d20d45-70bb-4995-d72d-cfd57ef91553"
      },
      "source": [
        "import seaborn as sns\n",
        "sns.jointplot(X='support',Y='confidence',data=rules,kind='kde')\n",
        "plt.show()"
      ],
      "execution_count": 18,
      "outputs": [
        {
          "output_type": "stream",
          "text": [
            "/usr/local/lib/python3.7/dist-packages/seaborn/distributions.py:1078: UserWarning: Dataset has 0 variance; skipping density estimate.\n",
            "  warnings.warn(msg, UserWarning)\n",
            "/usr/local/lib/python3.7/dist-packages/seaborn/distributions.py:1185: UserWarning: The following kwargs were not used by contour: 'X', 'Y'\n",
            "  **contour_kws,\n",
            "/usr/local/lib/python3.7/dist-packages/seaborn/distributions.py:1185: UserWarning: No contour levels were found within the data range.\n",
            "  **contour_kws,\n",
            "/usr/local/lib/python3.7/dist-packages/seaborn/distributions.py:306: UserWarning: Dataset has 0 variance; skipping density estimate.\n",
            "  warnings.warn(msg, UserWarning)\n"
          ],
          "name": "stderr"
        },
        {
          "output_type": "display_data",
          "data": {
            "image/png": "[encoded data removed]",
            "text/plain": [
              "<Figure size 432x432 with 3 Axes>"
            ]
          },
          "metadata": {
            "tags": [],
            "needs_background": "light"
          }
        }
      ]
    },
    {
      "cell_type": "code",
      "metadata": {
        "colab": {
          "base_uri": "https://localhost:8080/",
          "height": 1000
        },
        "id": "qzd6VonLaJf6",
        "outputId": "f1f712cc-6342-4510-b60d-828d639cdbaa"
      },
      "source": [
        "sns.pairplot(mymovies)\n",
        "plt.show()"
      ],
      "execution_count": 20,
      "outputs": [
        {
          "output_type": "display_data",
          "data": {
            "image/png": "[encoded data removed]",
            "text/plain": [
              "<Figure size 1800x1800 with 110 Axes>"
            ]
          },
          "metadata": {
            "tags": [],
            "needs_background": "light"
          }
        }
      ]
    },
    {
      "cell_type": "markdown",
      "metadata": {
        "id": "wn28mobXaJf6"
      },
      "source": [
        "#### My_Movie dataset Apriori Algorithm is done min_support =0.1 is given and then association rules 'lift' type is done where min_threshold is 0.4 as taken and output is obtained for that. Than lift>1 values is been filtered form the output."
      ]
    }
  ]
}